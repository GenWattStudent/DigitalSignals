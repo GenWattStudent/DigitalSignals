{
 "cells": [
  {
   "cell_type": "markdown",
   "id": "dd56c972",
   "metadata": {},
   "source": [
    "# ECG Signal Processing - Variant 2"
   ]
  },
  {
   "cell_type": "code",
   "execution_count": null,
   "id": "d8ad8621",
   "metadata": {},
   "outputs": [],
   "source": [
    "!pip install wfdb biosppy neurokit2"
   ]
  },
  {
   "cell_type": "markdown",
   "id": "a4803faf",
   "metadata": {},
   "source": [
    "## 2. Import Libraries"
   ]
  },
  {
   "cell_type": "code",
   "execution_count": null,
   "id": "390592b4",
   "metadata": {},
   "outputs": [],
   "source": [
    "import numpy as np\n",
    "import matplotlib.pyplot as plt\n",
    "from scipy.signal import butter, filtfilt\n",
    "import neurokit2 as nk"
   ]
  },
  {
   "cell_type": "markdown",
   "id": "98587dfa",
   "metadata": {},
   "source": [
    "## 3. Parametry Symulacji"
   ]
  },
  {
   "cell_type": "code",
   "execution_count": null,
   "id": "43d0e7a6",
   "metadata": {},
   "outputs": [],
   "source": [
    "# Czas trwania i częstotliwość próbkowania\n",
    "duration = 10        # seconds\n",
    "fs = 500             # Hz (sampling rate)\n",
    "\n",
    "# Filtr pasmowy: dolna 1 Hz, górna 35 Hz\n",
    "lowcut = 1.0         # Hz\n",
    "highcut = 35.0       # Hz\n",
    "order = 4     "
   ]
  },
  {
   "cell_type": "markdown",
   "id": "9cddd1a6",
   "metadata": {},
   "source": [
    " ## 4. Generacja i Filtrowanie Sygnału ECG"
   ]
  },
  {
   "cell_type": "markdown",
   "id": "ace3b2ed",
   "metadata": {},
   "source": [
    "4.1. Symulacja sygnału ECG"
   ]
  },
  {
   "cell_type": "code",
   "execution_count": null,
   "id": "ac2f4b62",
   "metadata": {},
   "outputs": [],
   "source": [
    "ecg_signal = nk.ecg_simulate(duration=duration, sampling_rate=fs)"
   ]
  },
  {
   "cell_type": "markdown",
   "id": "4ae5b759",
   "metadata": {},
   "source": [
    "4.2. Definicja filtru pasmowego"
   ]
  },
  {
   "cell_type": "code",
   "execution_count": null,
   "id": "df083c54",
   "metadata": {},
   "outputs": [],
   "source": [
    "def bandpass_filter(signal, lowcut, highcut, fs, order=4):\n",
    "    nyq = 0.5 * fs\n",
    "    low = lowcut / nyq\n",
    "    high = highcut / nyq\n",
    "    b, a = butter(order, [low, high], btype='band')\n",
    "    return filtfilt(b, a, signal)"
   ]
  },
  {
   "cell_type": "markdown",
   "id": "6c9c6f23",
   "metadata": {},
   "source": [
    "4.3. Filtrowanie sygnału"
   ]
  },
  {
   "cell_type": "code",
   "execution_count": null,
   "id": "737498ae",
   "metadata": {},
   "outputs": [],
   "source": [
    "ecg_filtered = bandpass_filter(ecg_signal, lowcut, highcut, fs, order)"
   ]
  },
  {
   "cell_type": "markdown",
   "id": "411b3bdb",
   "metadata": {},
   "source": [
    "## 5. Wizualizacja Sygnału"
   ]
  },
  {
   "cell_type": "code",
   "execution_count": null,
   "id": "0b0040d3",
   "metadata": {},
   "outputs": [],
   "source": [
    "plt.figure(figsize=(12, 4))\n",
    "plt.plot(ecg_signal, label='Raw ECG')\n",
    "plt.plot(ecg_filtered, label='Filtered ECG (1-35 Hz)')\n",
    "plt.title('Raw vs Filtered ECG Signal')\n",
    "plt.xlabel('Sample Index')\n",
    "plt.ylabel('Amplitude (a.u.)')\n",
    "plt.legend()\n",
    "plt.tight_layout()\n",
    "plt.show()"
   ]
  },
  {
   "cell_type": "markdown",
   "id": "17fbc5f4",
   "metadata": {},
   "source": [
    "## 6. Wykrywanie R-peaków"
   ]
  },
  {
   "cell_type": "code",
   "execution_count": null,
   "id": "0ee80675",
   "metadata": {},
   "outputs": [],
   "source": [
    "signals, info = nk.ecg_process(ecg_filtered, sampling_rate=fs)\n",
    "r_peaks = info['ECG_R_Peaks']\n",
    "\n",
    "plt.figure(figsize=(12, 4))\n",
    "plt.plot(ecg_filtered, label='Filtered ECG')\n",
    "plt.plot(r_peaks, ecg_filtered[r_peaks], 'ro', label='R-peaks')\n",
    "plt.title('R-peak Detection')\n",
    "plt.xlabel('Sample Index')\n",
    "plt.ylabel('Amplitude')\n",
    "plt.legend()\n",
    "plt.tight_layout()\n",
    "plt.show()"
   ]
  },
  {
   "cell_type": "markdown",
   "id": "764c9840",
   "metadata": {},
   "source": [
    " ## 7. Obliczanie Częstości Serca (Instantaneous Heart Rate)"
   ]
  },
  {
   "cell_type": "code",
   "execution_count": null,
   "id": "16b8a7fe",
   "metadata": {},
   "outputs": [],
   "source": [
    "\n",
    "# Indeksy w próbkach -> czasy w sekundach\n",
    "r_times = np.array(r_peaks) / fs\n",
    "# RR-intervals w sekundach\n",
    "rr_intervals = np.diff(r_times)\n",
    "# HR instantaneous (bpm)\n",
    "hr_inst = 60 / rr_intervals\n",
    "# Czasy przypisane do HR jako środek przedziału RR\n",
    "time_hr = r_times[:-1] + rr_intervals / 2\n",
    "\n",
    "plt.figure(figsize=(12, 4))\n",
    "plt.plot(time_hr, hr_inst, marker='o')\n",
    "plt.title('Instantaneous Heart Rate over Time')\n",
    "plt.xlabel('Time (s)')\n",
    "plt.ylabel('Heart Rate (bpm)')\n",
    "plt.grid(True)\n",
    "plt.tight_layout()\n",
    "plt.show()"
   ]
  }
 ],
 "metadata": {
  "kernelspec": {
   "display_name": "Python 3",
   "language": "python",
   "name": "python3"
  },
  "language_info": {
   "name": "python",
   "version": "3.12.3"
  }
 },
 "nbformat": 4,
 "nbformat_minor": 5
}
